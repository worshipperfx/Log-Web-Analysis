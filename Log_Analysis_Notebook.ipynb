{
 "cells": [
  {
   "cell_type": "code",
   "execution_count": 0,
   "metadata": {
    "application/vnd.databricks.v1+cell": {
     "cellMetadata": {
      "byteLimit": 2048000,
      "rowLimit": 10000
     },
     "inputWidgets": {},
     "nuid": "7200df36-29d6-4443-8034-72e248b3a2b6",
     "showTitle": false,
     "tableResultSettingsMap": {},
     "title": ""
    }
   },
   "outputs": [
    {
     "output_type": "stream",
     "name": "stdout",
     "output_type": "stream",
     "text": [
      "+-----------------------------------------------------------------------------------------------------------------------+\n|value                                                                                                                  |\n+-----------------------------------------------------------------------------------------------------------------------+\n|199.72.81.55 - - [01/Jul/1995:00:00:01 -0400] \"GET /history/apollo/ HTTP/1.0\" 200 6245                                 |\n|unicomp6.unicomp.net - - [01/Jul/1995:00:00:06 -0400] \"GET /shuttle/countdown/ HTTP/1.0\" 200 3985                      |\n|199.120.110.21 - - [01/Jul/1995:00:00:09 -0400] \"GET /shuttle/missions/sts-73/mission-sts-73.html HTTP/1.0\" 200 4085   |\n|burger.letters.com - - [01/Jul/1995:00:00:11 -0400] \"GET /shuttle/countdown/liftoff.html HTTP/1.0\" 304 0               |\n|199.120.110.21 - - [01/Jul/1995:00:00:11 -0400] \"GET /shuttle/missions/sts-73/sts-73-patch-small.gif HTTP/1.0\" 200 4179|\n+-----------------------------------------------------------------------------------------------------------------------+\nonly showing top 5 rows\n\n+--------------------+--------------------------+------+-----------------------------------------------+-----------+-------------+\n|Ip                  |timestamp                 |method|Url                                            |Status_Code|Size In Bytes|\n+--------------------+--------------------------+------+-----------------------------------------------+-----------+-------------+\n|199.72.81.55        |01/Jul/1995:00:00:01 -0400|      |/history/apollo/                               |200        |6245         |\n|unicomp6.unicomp.net|01/Jul/1995:00:00:06 -0400|      |/shuttle/countdown/                            |200        |3985         |\n|199.120.110.21      |01/Jul/1995:00:00:09 -0400|      |/shuttle/missions/sts-73/mission-sts-73.html   |200        |4085         |\n|burger.letters.com  |01/Jul/1995:00:00:11 -0400|      |/shuttle/countdown/liftoff.html                |304        |0            |\n|199.120.110.21      |01/Jul/1995:00:00:11 -0400|      |/shuttle/missions/sts-73/sts-73-patch-small.gif|200        |4179         |\n+--------------------+--------------------------+------+-----------------------------------------------+-----------+-------------+\nonly showing top 5 rows\n\n+----------------------------+------+\n|Url                         |count |\n+----------------------------+------+\n|/images/NASA-logosmall.gif  |111144|\n|/images/KSC-logosmall.gif   |89530 |\n|/images/MOSAIC-logosmall.gif|60300 |\n|/images/USA-logosmall.gif   |59845 |\n|/images/WORLD-logosmall.gif |59325 |\n|/images/ksclogo-medium.gif  |58616 |\n|/images/launch-logo.gif     |40841 |\n|/shuttle/countdown/         |40251 |\n|/ksc.html                   |40072 |\n|/images/ksclogosmall.gif    |33555 |\n+----------------------------+------+\nonly showing top 10 rows\n\n+--------------------+-----+\n|                  Ip|count|\n+--------------------+-----+\n|piweba3y.prodigy.com|17572|\n|piweba4y.prodigy.com|11591|\n|piweba1y.prodigy.com| 9868|\n|  alyssa.prodigy.com| 7852|\n| siltb10.orl.mmc.com| 7573|\n|piweba2y.prodigy.com| 5922|\n|  edams.ksc.nasa.gov| 5434|\n|        163.206.89.4| 4906|\n|         news.ti.com| 4863|\n|disarray.demon.co.uk| 4353|\n+--------------------+-----+\nonly showing top 10 rows\n\nOut[18]: 190181"
     ]
    }
   ],
   "source": [
    "from pyspark.sql import SparkSession\n",
    "from pyspark.sql.functions import regexp_extract\n",
    "\n",
    "spark = SparkSession.builder.appName(\"Nasa Log File Analysis\").getOrCreate()\n",
    "logs_df = spark.read.text(\"dbfs:/FileStore/shared_uploads/chitengamarvellous@gmail.com/NASA_access_log_Jul95.gz\")\n",
    "logs_df.show(5, truncate = False)\n",
    "\n",
    "logs_df_parsed = logs_df.select(\n",
    "    regexp_extract('value', r'^(\\S+)', 1).alias('Ip'),\n",
    "    regexp_extract('value', r'\\[(.*?)\\]', 1).alias('timestamp'),\n",
    "    regexp_extract('value', r'\\\"(S+)', 1).alias('method'),\n",
    "    regexp_extract('value',r'\\\"(?:\\S+)\\s(\\S+)', 1).alias('Url'),\n",
    "    regexp_extract('value',r'\\\"\\s(\\d{3})' ,1).alias('Status_Code'),\n",
    "    regexp_extract('value',r'\\\"\\s\\d{3}\\s(\\d+|-)' ,1).alias('Size In Bytes')\n",
    ")\n",
    "logs_df_parsed.show(5, truncate = False)\n",
    "\n",
    "logs_df_parsed.groupBy(\"Url\").count().orderBy(\"count\", ascending=False).show(10, truncate=False)\n",
    "logs_df_parsed.groupBy(\"Ip\").count().orderBy(\"count\", ascending=False).show(10)\n",
    "logs_df_parsed.count()\n",
    "logs_df_parsed.filter(logs_df_parsed.Status_Code != '200').count()\n"
   ]
  }
 ],
 "metadata": {
  "application/vnd.databricks.v1+notebook": {
   "computePreferences": null,
   "dashboards": [],
   "environmentMetadata": {
    "base_environment": "",
    "environment_version": "1"
   },
   "inputWidgetPreferences": null,
   "language": "python",
   "notebookMetadata": {
    "pythonIndentUnit": 4
   },
   "notebookName": "Log_Analysis_Notebook",
   "widgets": {}
  }
 },
 "nbformat": 4,
 "nbformat_minor": 0
}